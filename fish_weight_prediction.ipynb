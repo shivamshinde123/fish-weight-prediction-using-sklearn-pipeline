{
 "cells": [
  {
   "cell_type": "code",
   "execution_count": 3,
   "metadata": {},
   "outputs": [],
   "source": [
    "import numpy as np\n",
    "import pandas as pd\n",
    "import joblib"
   ]
  },
  {
   "cell_type": "code",
   "execution_count": 4,
   "metadata": {},
   "outputs": [],
   "source": [
    "from sklearn.model_selection import train_test_split\n",
    "from sklearn.preprocessing import OneHotEncoder, StandardScaler\n",
    "from sklearn.impute import SimpleImputer\n",
    "from sklearn.pipeline import Pipeline\n",
    "from sklearn.compose import ColumnTransformer\n",
    "from sklearn.linear_model import ElasticNet, Ridge, Lasso\n",
    "from sklearn.model_selection import cross_val_score, KFold, RandomizedSearchCV\n",
    "from sklearn.metrics import r2_score\n",
    "from sklearn.utils import estimator_html_repr\n",
    "from sklearn import set_config\n",
    "set_config(display='diagram')"
   ]
  },
  {
   "cell_type": "code",
   "execution_count": 5,
   "metadata": {},
   "outputs": [],
   "source": [
    "## reading the csv file\n",
    "df = pd.read_csv('Data/Fish.csv')"
   ]
  },
  {
   "cell_type": "code",
   "execution_count": 6,
   "metadata": {},
   "outputs": [
    {
     "name": "stdout",
     "output_type": "stream",
     "text": [
      "<class 'pandas.core.frame.DataFrame'>\n",
      "RangeIndex: 159 entries, 0 to 158\n",
      "Data columns (total 7 columns):\n",
      " #   Column   Non-Null Count  Dtype  \n",
      "---  ------   --------------  -----  \n",
      " 0   Species  159 non-null    object \n",
      " 1   Weight   159 non-null    float64\n",
      " 2   Length1  159 non-null    float64\n",
      " 3   Length2  159 non-null    float64\n",
      " 4   Length3  159 non-null    float64\n",
      " 5   Height   159 non-null    float64\n",
      " 6   Width    159 non-null    float64\n",
      "dtypes: float64(6), object(1)\n",
      "memory usage: 8.8+ KB\n"
     ]
    }
   ],
   "source": [
    "## understanding the basic info about the data\n",
    "\n",
    "df.info()"
   ]
  },
  {
   "cell_type": "code",
   "execution_count": 7,
   "metadata": {},
   "outputs": [
    {
     "data": {
      "text/html": [
       "<div>\n",
       "<style scoped>\n",
       "    .dataframe tbody tr th:only-of-type {\n",
       "        vertical-align: middle;\n",
       "    }\n",
       "\n",
       "    .dataframe tbody tr th {\n",
       "        vertical-align: top;\n",
       "    }\n",
       "\n",
       "    .dataframe thead th {\n",
       "        text-align: right;\n",
       "    }\n",
       "</style>\n",
       "<table border=\"1\" class=\"dataframe\">\n",
       "  <thead>\n",
       "    <tr style=\"text-align: right;\">\n",
       "      <th></th>\n",
       "      <th>Species</th>\n",
       "      <th>Weight</th>\n",
       "      <th>Length1</th>\n",
       "      <th>Length2</th>\n",
       "      <th>Length3</th>\n",
       "      <th>Height</th>\n",
       "      <th>Width</th>\n",
       "    </tr>\n",
       "  </thead>\n",
       "  <tbody>\n",
       "    <tr>\n",
       "      <th>0</th>\n",
       "      <td>Bream</td>\n",
       "      <td>242.0</td>\n",
       "      <td>23.2</td>\n",
       "      <td>25.4</td>\n",
       "      <td>30.0</td>\n",
       "      <td>11.5200</td>\n",
       "      <td>4.0200</td>\n",
       "    </tr>\n",
       "    <tr>\n",
       "      <th>1</th>\n",
       "      <td>Bream</td>\n",
       "      <td>290.0</td>\n",
       "      <td>24.0</td>\n",
       "      <td>26.3</td>\n",
       "      <td>31.2</td>\n",
       "      <td>12.4800</td>\n",
       "      <td>4.3056</td>\n",
       "    </tr>\n",
       "    <tr>\n",
       "      <th>2</th>\n",
       "      <td>Bream</td>\n",
       "      <td>340.0</td>\n",
       "      <td>23.9</td>\n",
       "      <td>26.5</td>\n",
       "      <td>31.1</td>\n",
       "      <td>12.3778</td>\n",
       "      <td>4.6961</td>\n",
       "    </tr>\n",
       "    <tr>\n",
       "      <th>3</th>\n",
       "      <td>Bream</td>\n",
       "      <td>363.0</td>\n",
       "      <td>26.3</td>\n",
       "      <td>29.0</td>\n",
       "      <td>33.5</td>\n",
       "      <td>12.7300</td>\n",
       "      <td>4.4555</td>\n",
       "    </tr>\n",
       "    <tr>\n",
       "      <th>4</th>\n",
       "      <td>Bream</td>\n",
       "      <td>430.0</td>\n",
       "      <td>26.5</td>\n",
       "      <td>29.0</td>\n",
       "      <td>34.0</td>\n",
       "      <td>12.4440</td>\n",
       "      <td>5.1340</td>\n",
       "    </tr>\n",
       "  </tbody>\n",
       "</table>\n",
       "</div>"
      ],
      "text/plain": [
       "  Species  Weight  Length1  Length2  Length3   Height   Width\n",
       "0   Bream   242.0     23.2     25.4     30.0  11.5200  4.0200\n",
       "1   Bream   290.0     24.0     26.3     31.2  12.4800  4.3056\n",
       "2   Bream   340.0     23.9     26.5     31.1  12.3778  4.6961\n",
       "3   Bream   363.0     26.3     29.0     33.5  12.7300  4.4555\n",
       "4   Bream   430.0     26.5     29.0     34.0  12.4440  5.1340"
      ]
     },
     "execution_count": 7,
     "metadata": {},
     "output_type": "execute_result"
    }
   ],
   "source": [
    "df.head()"
   ]
  },
  {
   "cell_type": "code",
   "execution_count": 8,
   "metadata": {},
   "outputs": [
    {
     "data": {
      "text/plain": [
       "(159, 7)"
      ]
     },
     "execution_count": 8,
     "metadata": {},
     "output_type": "execute_result"
    }
   ],
   "source": [
    "\n",
    "df.shape"
   ]
  },
  {
   "cell_type": "code",
   "execution_count": 9,
   "metadata": {},
   "outputs": [
    {
     "data": {
      "text/plain": [
       "Species      7\n",
       "Weight     101\n",
       "Length1    116\n",
       "Length2     93\n",
       "Length3    124\n",
       "Height     154\n",
       "Width      152\n",
       "dtype: int64"
      ]
     },
     "execution_count": 9,
     "metadata": {},
     "output_type": "execute_result"
    }
   ],
   "source": [
    "df.nunique()"
   ]
  },
  {
   "cell_type": "code",
   "execution_count": 10,
   "metadata": {},
   "outputs": [
    {
     "data": {
      "text/plain": [
       "Species    0\n",
       "Weight     0\n",
       "Length1    0\n",
       "Length2    0\n",
       "Length3    0\n",
       "Height     0\n",
       "Width      0\n",
       "dtype: int64"
      ]
     },
     "execution_count": 10,
     "metadata": {},
     "output_type": "execute_result"
    }
   ],
   "source": [
    "## Checking for missing values in the data\n",
    "\n",
    "df.isnull().sum() "
   ]
  },
  {
   "cell_type": "markdown",
   "metadata": {},
   "source": [
    "Even if there are no missing values in this data, we are going to implement imputers.This is because the new or future data that we might use for retraining the model can have missing values"
   ]
  },
  {
   "cell_type": "code",
   "execution_count": 11,
   "metadata": {},
   "outputs": [],
   "source": [
    "## Separating independent and dependent features\n",
    "\n",
    "Y = pd.DataFrame(df['Weight'],columns=['Weight'])\n",
    "\n",
    "X = df.drop(columns=['Weight'])\n"
   ]
  },
  {
   "cell_type": "code",
   "execution_count": 12,
   "metadata": {},
   "outputs": [],
   "source": [
    "## getting the names of the numerical and categorical features\n",
    "\n",
    "cat_feat = [feature for feature in X.columns if X[feature].dtypes == 'O']\n",
    "\n",
    "num_feat = [feature for feature in X.columns if feature not in cat_feat]"
   ]
  },
  {
   "cell_type": "code",
   "execution_count": 13,
   "metadata": {},
   "outputs": [],
   "source": [
    "## splitting the dataset into training and test set\n",
    "\n",
    "x_train, x_test, y_train, y_test = train_test_split(X,Y,test_size=0.2,random_state=1232)"
   ]
  },
  {
   "cell_type": "markdown",
   "metadata": {},
   "source": [
    "creating a pipeline for preprocessing of data"
   ]
  },
  {
   "cell_type": "markdown",
   "metadata": {},
   "source": [
    "## VERY IMPORTANT LINE OF CODE"
   ]
  },
  {
   "cell_type": "code",
   "execution_count": 14,
   "metadata": {},
   "outputs": [],
   "source": [
    "## we are creating this as the SimpleImputer method doesn't have get_feature_names_out method\n",
    "SimpleImputer.get_feature_names_out = (lambda self, names=None:\n",
    "                                       self.feature_names_in_)"
   ]
  },
  {
   "cell_type": "code",
   "execution_count": 15,
   "metadata": {},
   "outputs": [],
   "source": [
    "cat_pipe = Pipeline([\n",
    "            \n",
    "            ('cat_imputer',SimpleImputer(strategy=\"most_frequent\")),\n",
    "            ('one_hot_encoder',OneHotEncoder())\n",
    "    \n",
    "        ])\n",
    " \n",
    "num_pipe = Pipeline([\n",
    "     \n",
    "             ('num_imputer',SimpleImputer(strategy=\"median\")),\n",
    "             ('std_scalar',StandardScaler())\n",
    "        ])\n"
   ]
  },
  {
   "cell_type": "code",
   "execution_count": 16,
   "metadata": {},
   "outputs": [],
   "source": [
    "preprocessing_pipe = ColumnTransformer([\n",
    "            \n",
    "            ('cat',cat_pipe,cat_feat),\n",
    "            ('num',num_pipe,num_feat)\n",
    "    \n",
    "        ],remainder=\"passthrough\", verbose_feature_names_out=False)"
   ]
  },
  {
   "cell_type": "code",
   "execution_count": 17,
   "metadata": {},
   "outputs": [],
   "source": [
    "## Creating a pipeline for model training \n",
    "\n",
    "model_pipe1 = Pipeline([\n",
    "\n",
    "        ('model1',Ridge(random_state=123))\n",
    "])\n",
    "\n",
    "model_pipe2 = Pipeline([\n",
    "\n",
    "        ('model2',Lasso(random_state=124))\n",
    "])\n",
    "\n",
    "model_pipe3 = Pipeline([\n",
    "    \n",
    "            (\"model3\",ElasticNet(random_state=243))    \n",
    "    \n",
    "])"
   ]
  },
  {
   "cell_type": "code",
   "execution_count": 18,
   "metadata": {},
   "outputs": [],
   "source": [
    "## Combining the pipelines for preprocessing and model training\n",
    "full_pipeline1 = Pipeline([\n",
    "            \n",
    "            ('preprocessing',preprocessing_pipe),\n",
    "            ('model_training1',model_pipe1)\n",
    "    \n",
    "    ])\n",
    "\n",
    "full_pipeline2 = Pipeline([\n",
    "            \n",
    "            ('preprocessing',preprocessing_pipe),\n",
    "            ('model_training2',model_pipe2)\n",
    "    \n",
    "    ])\n",
    "\n",
    "full_pipeline3 = Pipeline([\n",
    "            \n",
    "            ('preprocessing',preprocessing_pipe),\n",
    "            ('model_training3',model_pipe3)\n",
    "    \n",
    "    ])"
   ]
  },
  {
   "cell_type": "code",
   "execution_count": 19,
   "metadata": {},
   "outputs": [
    {
     "data": {
      "text/html": [
       "<style>#sk-1904407d-5475-4119-a073-17efa8b53b4c {color: black;background-color: white;}#sk-1904407d-5475-4119-a073-17efa8b53b4c pre{padding: 0;}#sk-1904407d-5475-4119-a073-17efa8b53b4c div.sk-toggleable {background-color: white;}#sk-1904407d-5475-4119-a073-17efa8b53b4c label.sk-toggleable__label {cursor: pointer;display: block;width: 100%;margin-bottom: 0;padding: 0.3em;box-sizing: border-box;text-align: center;}#sk-1904407d-5475-4119-a073-17efa8b53b4c label.sk-toggleable__label-arrow:before {content: \"▸\";float: left;margin-right: 0.25em;color: #696969;}#sk-1904407d-5475-4119-a073-17efa8b53b4c label.sk-toggleable__label-arrow:hover:before {color: black;}#sk-1904407d-5475-4119-a073-17efa8b53b4c div.sk-estimator:hover label.sk-toggleable__label-arrow:before {color: black;}#sk-1904407d-5475-4119-a073-17efa8b53b4c div.sk-toggleable__content {max-height: 0;max-width: 0;overflow: hidden;text-align: left;background-color: #f0f8ff;}#sk-1904407d-5475-4119-a073-17efa8b53b4c div.sk-toggleable__content pre {margin: 0.2em;color: black;border-radius: 0.25em;background-color: #f0f8ff;}#sk-1904407d-5475-4119-a073-17efa8b53b4c input.sk-toggleable__control:checked~div.sk-toggleable__content {max-height: 200px;max-width: 100%;overflow: auto;}#sk-1904407d-5475-4119-a073-17efa8b53b4c input.sk-toggleable__control:checked~label.sk-toggleable__label-arrow:before {content: \"▾\";}#sk-1904407d-5475-4119-a073-17efa8b53b4c div.sk-estimator input.sk-toggleable__control:checked~label.sk-toggleable__label {background-color: #d4ebff;}#sk-1904407d-5475-4119-a073-17efa8b53b4c div.sk-label input.sk-toggleable__control:checked~label.sk-toggleable__label {background-color: #d4ebff;}#sk-1904407d-5475-4119-a073-17efa8b53b4c input.sk-hidden--visually {border: 0;clip: rect(1px 1px 1px 1px);clip: rect(1px, 1px, 1px, 1px);height: 1px;margin: -1px;overflow: hidden;padding: 0;position: absolute;width: 1px;}#sk-1904407d-5475-4119-a073-17efa8b53b4c div.sk-estimator {font-family: monospace;background-color: #f0f8ff;border: 1px dotted black;border-radius: 0.25em;box-sizing: border-box;margin-bottom: 0.5em;}#sk-1904407d-5475-4119-a073-17efa8b53b4c div.sk-estimator:hover {background-color: #d4ebff;}#sk-1904407d-5475-4119-a073-17efa8b53b4c div.sk-parallel-item::after {content: \"\";width: 100%;border-bottom: 1px solid gray;flex-grow: 1;}#sk-1904407d-5475-4119-a073-17efa8b53b4c div.sk-label:hover label.sk-toggleable__label {background-color: #d4ebff;}#sk-1904407d-5475-4119-a073-17efa8b53b4c div.sk-serial::before {content: \"\";position: absolute;border-left: 1px solid gray;box-sizing: border-box;top: 2em;bottom: 0;left: 50%;}#sk-1904407d-5475-4119-a073-17efa8b53b4c div.sk-serial {display: flex;flex-direction: column;align-items: center;background-color: white;padding-right: 0.2em;padding-left: 0.2em;}#sk-1904407d-5475-4119-a073-17efa8b53b4c div.sk-item {z-index: 1;}#sk-1904407d-5475-4119-a073-17efa8b53b4c div.sk-parallel {display: flex;align-items: stretch;justify-content: center;background-color: white;}#sk-1904407d-5475-4119-a073-17efa8b53b4c div.sk-parallel::before {content: \"\";position: absolute;border-left: 1px solid gray;box-sizing: border-box;top: 2em;bottom: 0;left: 50%;}#sk-1904407d-5475-4119-a073-17efa8b53b4c div.sk-parallel-item {display: flex;flex-direction: column;position: relative;background-color: white;}#sk-1904407d-5475-4119-a073-17efa8b53b4c div.sk-parallel-item:first-child::after {align-self: flex-end;width: 50%;}#sk-1904407d-5475-4119-a073-17efa8b53b4c div.sk-parallel-item:last-child::after {align-self: flex-start;width: 50%;}#sk-1904407d-5475-4119-a073-17efa8b53b4c div.sk-parallel-item:only-child::after {width: 0;}#sk-1904407d-5475-4119-a073-17efa8b53b4c div.sk-dashed-wrapped {border: 1px dashed gray;margin: 0 0.4em 0.5em 0.4em;box-sizing: border-box;padding-bottom: 0.4em;background-color: white;position: relative;}#sk-1904407d-5475-4119-a073-17efa8b53b4c div.sk-label label {font-family: monospace;font-weight: bold;background-color: white;display: inline-block;line-height: 1.2em;}#sk-1904407d-5475-4119-a073-17efa8b53b4c div.sk-label-container {position: relative;z-index: 2;text-align: center;}#sk-1904407d-5475-4119-a073-17efa8b53b4c div.sk-container {/* jupyter's `normalize.less` sets `[hidden] { display: none; }` but bootstrap.min.css set `[hidden] { display: none !important; }` so we also need the `!important` here to be able to override the default hidden behavior on the sphinx rendered scikit-learn.org. See: https://github.com/scikit-learn/scikit-learn/issues/21755 */display: inline-block !important;position: relative;}#sk-1904407d-5475-4119-a073-17efa8b53b4c div.sk-text-repr-fallback {display: none;}</style><div id=\"sk-1904407d-5475-4119-a073-17efa8b53b4c\" class=\"sk-top-container\"><div class=\"sk-text-repr-fallback\"><pre>Pipeline(steps=[(&#x27;preprocessing&#x27;,\n",
       "                 ColumnTransformer(remainder=&#x27;passthrough&#x27;,\n",
       "                                   transformers=[(&#x27;cat&#x27;,\n",
       "                                                  Pipeline(steps=[(&#x27;cat_imputer&#x27;,\n",
       "                                                                   SimpleImputer(strategy=&#x27;most_frequent&#x27;)),\n",
       "                                                                  (&#x27;one_hot_encoder&#x27;,\n",
       "                                                                   OneHotEncoder())]),\n",
       "                                                  [&#x27;Species&#x27;]),\n",
       "                                                 (&#x27;num&#x27;,\n",
       "                                                  Pipeline(steps=[(&#x27;num_imputer&#x27;,\n",
       "                                                                   SimpleImputer(strategy=&#x27;median&#x27;)),\n",
       "                                                                  (&#x27;std_scalar&#x27;,\n",
       "                                                                   StandardScaler())]),\n",
       "                                                  [&#x27;Length1&#x27;, &#x27;Length2&#x27;,\n",
       "                                                   &#x27;Length3&#x27;, &#x27;Height&#x27;,\n",
       "                                                   &#x27;Width&#x27;])],\n",
       "                                   verbose_feature_names_out=False)),\n",
       "                (&#x27;model_training1&#x27;,\n",
       "                 Pipeline(steps=[(&#x27;model1&#x27;, Ridge(random_state=123))]))])</pre><b>Please rerun this cell to show the HTML repr or trust the notebook.</b></div><div class=\"sk-container\" hidden><div class=\"sk-item sk-dashed-wrapped\"><div class=\"sk-label-container\"><div class=\"sk-label sk-toggleable\"><input class=\"sk-toggleable__control sk-hidden--visually\" id=\"6f10411b-553b-40d8-8221-d728a7192c84\" type=\"checkbox\" ><label for=\"6f10411b-553b-40d8-8221-d728a7192c84\" class=\"sk-toggleable__label sk-toggleable__label-arrow\">Pipeline</label><div class=\"sk-toggleable__content\"><pre>Pipeline(steps=[(&#x27;preprocessing&#x27;,\n",
       "                 ColumnTransformer(remainder=&#x27;passthrough&#x27;,\n",
       "                                   transformers=[(&#x27;cat&#x27;,\n",
       "                                                  Pipeline(steps=[(&#x27;cat_imputer&#x27;,\n",
       "                                                                   SimpleImputer(strategy=&#x27;most_frequent&#x27;)),\n",
       "                                                                  (&#x27;one_hot_encoder&#x27;,\n",
       "                                                                   OneHotEncoder())]),\n",
       "                                                  [&#x27;Species&#x27;]),\n",
       "                                                 (&#x27;num&#x27;,\n",
       "                                                  Pipeline(steps=[(&#x27;num_imputer&#x27;,\n",
       "                                                                   SimpleImputer(strategy=&#x27;median&#x27;)),\n",
       "                                                                  (&#x27;std_scalar&#x27;,\n",
       "                                                                   StandardScaler())]),\n",
       "                                                  [&#x27;Length1&#x27;, &#x27;Length2&#x27;,\n",
       "                                                   &#x27;Length3&#x27;, &#x27;Height&#x27;,\n",
       "                                                   &#x27;Width&#x27;])],\n",
       "                                   verbose_feature_names_out=False)),\n",
       "                (&#x27;model_training1&#x27;,\n",
       "                 Pipeline(steps=[(&#x27;model1&#x27;, Ridge(random_state=123))]))])</pre></div></div></div><div class=\"sk-serial\"><div class=\"sk-item sk-dashed-wrapped\"><div class=\"sk-label-container\"><div class=\"sk-label sk-toggleable\"><input class=\"sk-toggleable__control sk-hidden--visually\" id=\"ffe2746e-7a88-4962-9940-6b792e484b3c\" type=\"checkbox\" ><label for=\"ffe2746e-7a88-4962-9940-6b792e484b3c\" class=\"sk-toggleable__label sk-toggleable__label-arrow\">preprocessing: ColumnTransformer</label><div class=\"sk-toggleable__content\"><pre>ColumnTransformer(remainder=&#x27;passthrough&#x27;,\n",
       "                  transformers=[(&#x27;cat&#x27;,\n",
       "                                 Pipeline(steps=[(&#x27;cat_imputer&#x27;,\n",
       "                                                  SimpleImputer(strategy=&#x27;most_frequent&#x27;)),\n",
       "                                                 (&#x27;one_hot_encoder&#x27;,\n",
       "                                                  OneHotEncoder())]),\n",
       "                                 [&#x27;Species&#x27;]),\n",
       "                                (&#x27;num&#x27;,\n",
       "                                 Pipeline(steps=[(&#x27;num_imputer&#x27;,\n",
       "                                                  SimpleImputer(strategy=&#x27;median&#x27;)),\n",
       "                                                 (&#x27;std_scalar&#x27;,\n",
       "                                                  StandardScaler())]),\n",
       "                                 [&#x27;Length1&#x27;, &#x27;Length2&#x27;, &#x27;Length3&#x27;, &#x27;Height&#x27;,\n",
       "                                  &#x27;Width&#x27;])],\n",
       "                  verbose_feature_names_out=False)</pre></div></div></div><div class=\"sk-parallel\"><div class=\"sk-parallel-item\"><div class=\"sk-item\"><div class=\"sk-label-container\"><div class=\"sk-label sk-toggleable\"><input class=\"sk-toggleable__control sk-hidden--visually\" id=\"da9135ea-2207-4a8d-93c2-d11c04ef3d26\" type=\"checkbox\" ><label for=\"da9135ea-2207-4a8d-93c2-d11c04ef3d26\" class=\"sk-toggleable__label sk-toggleable__label-arrow\">cat</label><div class=\"sk-toggleable__content\"><pre>[&#x27;Species&#x27;]</pre></div></div></div><div class=\"sk-serial\"><div class=\"sk-item\"><div class=\"sk-serial\"><div class=\"sk-item\"><div class=\"sk-estimator sk-toggleable\"><input class=\"sk-toggleable__control sk-hidden--visually\" id=\"823d3e04-9756-4068-989f-6c485006afab\" type=\"checkbox\" ><label for=\"823d3e04-9756-4068-989f-6c485006afab\" class=\"sk-toggleable__label sk-toggleable__label-arrow\">SimpleImputer</label><div class=\"sk-toggleable__content\"><pre>SimpleImputer(strategy=&#x27;most_frequent&#x27;)</pre></div></div></div><div class=\"sk-item\"><div class=\"sk-estimator sk-toggleable\"><input class=\"sk-toggleable__control sk-hidden--visually\" id=\"8ba2a287-5876-4e3a-bf02-5a661b06c1b5\" type=\"checkbox\" ><label for=\"8ba2a287-5876-4e3a-bf02-5a661b06c1b5\" class=\"sk-toggleable__label sk-toggleable__label-arrow\">OneHotEncoder</label><div class=\"sk-toggleable__content\"><pre>OneHotEncoder()</pre></div></div></div></div></div></div></div></div><div class=\"sk-parallel-item\"><div class=\"sk-item\"><div class=\"sk-label-container\"><div class=\"sk-label sk-toggleable\"><input class=\"sk-toggleable__control sk-hidden--visually\" id=\"6a311982-8247-4298-a200-3d82944fdf2e\" type=\"checkbox\" ><label for=\"6a311982-8247-4298-a200-3d82944fdf2e\" class=\"sk-toggleable__label sk-toggleable__label-arrow\">num</label><div class=\"sk-toggleable__content\"><pre>[&#x27;Length1&#x27;, &#x27;Length2&#x27;, &#x27;Length3&#x27;, &#x27;Height&#x27;, &#x27;Width&#x27;]</pre></div></div></div><div class=\"sk-serial\"><div class=\"sk-item\"><div class=\"sk-serial\"><div class=\"sk-item\"><div class=\"sk-estimator sk-toggleable\"><input class=\"sk-toggleable__control sk-hidden--visually\" id=\"6b89c92f-a02e-4bac-b4ca-589463fdf0fe\" type=\"checkbox\" ><label for=\"6b89c92f-a02e-4bac-b4ca-589463fdf0fe\" class=\"sk-toggleable__label sk-toggleable__label-arrow\">SimpleImputer</label><div class=\"sk-toggleable__content\"><pre>SimpleImputer(strategy=&#x27;median&#x27;)</pre></div></div></div><div class=\"sk-item\"><div class=\"sk-estimator sk-toggleable\"><input class=\"sk-toggleable__control sk-hidden--visually\" id=\"8a718cbd-c6ce-4608-b8c8-8fe614ace775\" type=\"checkbox\" ><label for=\"8a718cbd-c6ce-4608-b8c8-8fe614ace775\" class=\"sk-toggleable__label sk-toggleable__label-arrow\">StandardScaler</label><div class=\"sk-toggleable__content\"><pre>StandardScaler()</pre></div></div></div></div></div></div></div></div><div class=\"sk-parallel-item\"><div class=\"sk-item\"><div class=\"sk-label-container\"><div class=\"sk-label sk-toggleable\"><input class=\"sk-toggleable__control sk-hidden--visually\" id=\"0aea1992-51e2-4e94-ba97-796c2906ee92\" type=\"checkbox\" ><label for=\"0aea1992-51e2-4e94-ba97-796c2906ee92\" class=\"sk-toggleable__label sk-toggleable__label-arrow\">remainder</label><div class=\"sk-toggleable__content\"><pre></pre></div></div></div><div class=\"sk-serial\"><div class=\"sk-item\"><div class=\"sk-estimator sk-toggleable\"><input class=\"sk-toggleable__control sk-hidden--visually\" id=\"86a4e915-9d62-4e17-8c4c-a051b04132c6\" type=\"checkbox\" ><label for=\"86a4e915-9d62-4e17-8c4c-a051b04132c6\" class=\"sk-toggleable__label sk-toggleable__label-arrow\">passthrough</label><div class=\"sk-toggleable__content\"><pre>passthrough</pre></div></div></div></div></div></div></div></div><div class=\"sk-item\"><div class=\"sk-label-container\"><div class=\"sk-label sk-toggleable\"><input class=\"sk-toggleable__control sk-hidden--visually\" id=\"e895074d-45e7-473c-b5c3-c9c8e8acf95d\" type=\"checkbox\" ><label for=\"e895074d-45e7-473c-b5c3-c9c8e8acf95d\" class=\"sk-toggleable__label sk-toggleable__label-arrow\">model_training1: Pipeline</label><div class=\"sk-toggleable__content\"><pre>Pipeline(steps=[(&#x27;model1&#x27;, Ridge(random_state=123))])</pre></div></div></div><div class=\"sk-serial\"><div class=\"sk-item\"><div class=\"sk-estimator sk-toggleable\"><input class=\"sk-toggleable__control sk-hidden--visually\" id=\"7c87a678-2a48-4461-a96a-4fcc049cf48a\" type=\"checkbox\" ><label for=\"7c87a678-2a48-4461-a96a-4fcc049cf48a\" class=\"sk-toggleable__label sk-toggleable__label-arrow\">Ridge</label><div class=\"sk-toggleable__content\"><pre>Ridge(random_state=123)</pre></div></div></div></div></div></div></div></div></div>"
      ],
      "text/plain": [
       "Pipeline(steps=[('preprocessing',\n",
       "                 ColumnTransformer(remainder='passthrough',\n",
       "                                   transformers=[('cat',\n",
       "                                                  Pipeline(steps=[('cat_imputer',\n",
       "                                                                   SimpleImputer(strategy='most_frequent')),\n",
       "                                                                  ('one_hot_encoder',\n",
       "                                                                   OneHotEncoder())]),\n",
       "                                                  ['Species']),\n",
       "                                                 ('num',\n",
       "                                                  Pipeline(steps=[('num_imputer',\n",
       "                                                                   SimpleImputer(strategy='median')),\n",
       "                                                                  ('std_scalar',\n",
       "                                                                   StandardScaler())]),\n",
       "                                                  ['Length1', 'Length2',\n",
       "                                                   'Length3', 'Height',\n",
       "                                                   'Width'])],\n",
       "                                   verbose_feature_names_out=False)),\n",
       "                ('model_training1',\n",
       "                 Pipeline(steps=[('model1', Ridge(random_state=123))]))])"
      ]
     },
     "execution_count": 19,
     "metadata": {},
     "output_type": "execute_result"
    }
   ],
   "source": [
    "full_pipeline1"
   ]
  },
  {
   "cell_type": "code",
   "execution_count": 20,
   "metadata": {},
   "outputs": [],
   "source": [
    "## saving the full_pipeline1 diagram as a html file\n",
    "\n",
    "with open('pipeline_vizualization/Ridge_regression_pipeline.html','w',encoding=\"utf-8\") as f:\n",
    "    f.write(estimator_html_repr(full_pipeline1))"
   ]
  },
  {
   "cell_type": "code",
   "execution_count": 21,
   "metadata": {},
   "outputs": [
    {
     "data": {
      "text/html": [
       "<style>#sk-20b0a715-4d1d-4ae1-a187-bf731e10be2e {color: black;background-color: white;}#sk-20b0a715-4d1d-4ae1-a187-bf731e10be2e pre{padding: 0;}#sk-20b0a715-4d1d-4ae1-a187-bf731e10be2e div.sk-toggleable {background-color: white;}#sk-20b0a715-4d1d-4ae1-a187-bf731e10be2e label.sk-toggleable__label {cursor: pointer;display: block;width: 100%;margin-bottom: 0;padding: 0.3em;box-sizing: border-box;text-align: center;}#sk-20b0a715-4d1d-4ae1-a187-bf731e10be2e label.sk-toggleable__label-arrow:before {content: \"▸\";float: left;margin-right: 0.25em;color: #696969;}#sk-20b0a715-4d1d-4ae1-a187-bf731e10be2e label.sk-toggleable__label-arrow:hover:before {color: black;}#sk-20b0a715-4d1d-4ae1-a187-bf731e10be2e div.sk-estimator:hover label.sk-toggleable__label-arrow:before {color: black;}#sk-20b0a715-4d1d-4ae1-a187-bf731e10be2e div.sk-toggleable__content {max-height: 0;max-width: 0;overflow: hidden;text-align: left;background-color: #f0f8ff;}#sk-20b0a715-4d1d-4ae1-a187-bf731e10be2e div.sk-toggleable__content pre {margin: 0.2em;color: black;border-radius: 0.25em;background-color: #f0f8ff;}#sk-20b0a715-4d1d-4ae1-a187-bf731e10be2e input.sk-toggleable__control:checked~div.sk-toggleable__content {max-height: 200px;max-width: 100%;overflow: auto;}#sk-20b0a715-4d1d-4ae1-a187-bf731e10be2e input.sk-toggleable__control:checked~label.sk-toggleable__label-arrow:before {content: \"▾\";}#sk-20b0a715-4d1d-4ae1-a187-bf731e10be2e div.sk-estimator input.sk-toggleable__control:checked~label.sk-toggleable__label {background-color: #d4ebff;}#sk-20b0a715-4d1d-4ae1-a187-bf731e10be2e div.sk-label input.sk-toggleable__control:checked~label.sk-toggleable__label {background-color: #d4ebff;}#sk-20b0a715-4d1d-4ae1-a187-bf731e10be2e input.sk-hidden--visually {border: 0;clip: rect(1px 1px 1px 1px);clip: rect(1px, 1px, 1px, 1px);height: 1px;margin: -1px;overflow: hidden;padding: 0;position: absolute;width: 1px;}#sk-20b0a715-4d1d-4ae1-a187-bf731e10be2e div.sk-estimator {font-family: monospace;background-color: #f0f8ff;border: 1px dotted black;border-radius: 0.25em;box-sizing: border-box;margin-bottom: 0.5em;}#sk-20b0a715-4d1d-4ae1-a187-bf731e10be2e div.sk-estimator:hover {background-color: #d4ebff;}#sk-20b0a715-4d1d-4ae1-a187-bf731e10be2e div.sk-parallel-item::after {content: \"\";width: 100%;border-bottom: 1px solid gray;flex-grow: 1;}#sk-20b0a715-4d1d-4ae1-a187-bf731e10be2e div.sk-label:hover label.sk-toggleable__label {background-color: #d4ebff;}#sk-20b0a715-4d1d-4ae1-a187-bf731e10be2e div.sk-serial::before {content: \"\";position: absolute;border-left: 1px solid gray;box-sizing: border-box;top: 2em;bottom: 0;left: 50%;}#sk-20b0a715-4d1d-4ae1-a187-bf731e10be2e div.sk-serial {display: flex;flex-direction: column;align-items: center;background-color: white;padding-right: 0.2em;padding-left: 0.2em;}#sk-20b0a715-4d1d-4ae1-a187-bf731e10be2e div.sk-item {z-index: 1;}#sk-20b0a715-4d1d-4ae1-a187-bf731e10be2e div.sk-parallel {display: flex;align-items: stretch;justify-content: center;background-color: white;}#sk-20b0a715-4d1d-4ae1-a187-bf731e10be2e div.sk-parallel::before {content: \"\";position: absolute;border-left: 1px solid gray;box-sizing: border-box;top: 2em;bottom: 0;left: 50%;}#sk-20b0a715-4d1d-4ae1-a187-bf731e10be2e div.sk-parallel-item {display: flex;flex-direction: column;position: relative;background-color: white;}#sk-20b0a715-4d1d-4ae1-a187-bf731e10be2e div.sk-parallel-item:first-child::after {align-self: flex-end;width: 50%;}#sk-20b0a715-4d1d-4ae1-a187-bf731e10be2e div.sk-parallel-item:last-child::after {align-self: flex-start;width: 50%;}#sk-20b0a715-4d1d-4ae1-a187-bf731e10be2e div.sk-parallel-item:only-child::after {width: 0;}#sk-20b0a715-4d1d-4ae1-a187-bf731e10be2e div.sk-dashed-wrapped {border: 1px dashed gray;margin: 0 0.4em 0.5em 0.4em;box-sizing: border-box;padding-bottom: 0.4em;background-color: white;position: relative;}#sk-20b0a715-4d1d-4ae1-a187-bf731e10be2e div.sk-label label {font-family: monospace;font-weight: bold;background-color: white;display: inline-block;line-height: 1.2em;}#sk-20b0a715-4d1d-4ae1-a187-bf731e10be2e div.sk-label-container {position: relative;z-index: 2;text-align: center;}#sk-20b0a715-4d1d-4ae1-a187-bf731e10be2e div.sk-container {/* jupyter's `normalize.less` sets `[hidden] { display: none; }` but bootstrap.min.css set `[hidden] { display: none !important; }` so we also need the `!important` here to be able to override the default hidden behavior on the sphinx rendered scikit-learn.org. See: https://github.com/scikit-learn/scikit-learn/issues/21755 */display: inline-block !important;position: relative;}#sk-20b0a715-4d1d-4ae1-a187-bf731e10be2e div.sk-text-repr-fallback {display: none;}</style><div id=\"sk-20b0a715-4d1d-4ae1-a187-bf731e10be2e\" class=\"sk-top-container\"><div class=\"sk-text-repr-fallback\"><pre>Pipeline(steps=[(&#x27;preprocessing&#x27;,\n",
       "                 ColumnTransformer(remainder=&#x27;passthrough&#x27;,\n",
       "                                   transformers=[(&#x27;cat&#x27;,\n",
       "                                                  Pipeline(steps=[(&#x27;cat_imputer&#x27;,\n",
       "                                                                   SimpleImputer(strategy=&#x27;most_frequent&#x27;)),\n",
       "                                                                  (&#x27;one_hot_encoder&#x27;,\n",
       "                                                                   OneHotEncoder())]),\n",
       "                                                  [&#x27;Species&#x27;]),\n",
       "                                                 (&#x27;num&#x27;,\n",
       "                                                  Pipeline(steps=[(&#x27;num_imputer&#x27;,\n",
       "                                                                   SimpleImputer(strategy=&#x27;median&#x27;)),\n",
       "                                                                  (&#x27;std_scalar&#x27;,\n",
       "                                                                   StandardScaler())]),\n",
       "                                                  [&#x27;Length1&#x27;, &#x27;Length2&#x27;,\n",
       "                                                   &#x27;Length3&#x27;, &#x27;Height&#x27;,\n",
       "                                                   &#x27;Width&#x27;])],\n",
       "                                   verbose_feature_names_out=False)),\n",
       "                (&#x27;model_training2&#x27;,\n",
       "                 Pipeline(steps=[(&#x27;model2&#x27;, Lasso(random_state=124))]))])</pre><b>Please rerun this cell to show the HTML repr or trust the notebook.</b></div><div class=\"sk-container\" hidden><div class=\"sk-item sk-dashed-wrapped\"><div class=\"sk-label-container\"><div class=\"sk-label sk-toggleable\"><input class=\"sk-toggleable__control sk-hidden--visually\" id=\"fab46e83-c18e-4b94-803e-22254d3093ee\" type=\"checkbox\" ><label for=\"fab46e83-c18e-4b94-803e-22254d3093ee\" class=\"sk-toggleable__label sk-toggleable__label-arrow\">Pipeline</label><div class=\"sk-toggleable__content\"><pre>Pipeline(steps=[(&#x27;preprocessing&#x27;,\n",
       "                 ColumnTransformer(remainder=&#x27;passthrough&#x27;,\n",
       "                                   transformers=[(&#x27;cat&#x27;,\n",
       "                                                  Pipeline(steps=[(&#x27;cat_imputer&#x27;,\n",
       "                                                                   SimpleImputer(strategy=&#x27;most_frequent&#x27;)),\n",
       "                                                                  (&#x27;one_hot_encoder&#x27;,\n",
       "                                                                   OneHotEncoder())]),\n",
       "                                                  [&#x27;Species&#x27;]),\n",
       "                                                 (&#x27;num&#x27;,\n",
       "                                                  Pipeline(steps=[(&#x27;num_imputer&#x27;,\n",
       "                                                                   SimpleImputer(strategy=&#x27;median&#x27;)),\n",
       "                                                                  (&#x27;std_scalar&#x27;,\n",
       "                                                                   StandardScaler())]),\n",
       "                                                  [&#x27;Length1&#x27;, &#x27;Length2&#x27;,\n",
       "                                                   &#x27;Length3&#x27;, &#x27;Height&#x27;,\n",
       "                                                   &#x27;Width&#x27;])],\n",
       "                                   verbose_feature_names_out=False)),\n",
       "                (&#x27;model_training2&#x27;,\n",
       "                 Pipeline(steps=[(&#x27;model2&#x27;, Lasso(random_state=124))]))])</pre></div></div></div><div class=\"sk-serial\"><div class=\"sk-item sk-dashed-wrapped\"><div class=\"sk-label-container\"><div class=\"sk-label sk-toggleable\"><input class=\"sk-toggleable__control sk-hidden--visually\" id=\"440652fe-39fe-4e3c-9f0e-6a29be5c95a2\" type=\"checkbox\" ><label for=\"440652fe-39fe-4e3c-9f0e-6a29be5c95a2\" class=\"sk-toggleable__label sk-toggleable__label-arrow\">preprocessing: ColumnTransformer</label><div class=\"sk-toggleable__content\"><pre>ColumnTransformer(remainder=&#x27;passthrough&#x27;,\n",
       "                  transformers=[(&#x27;cat&#x27;,\n",
       "                                 Pipeline(steps=[(&#x27;cat_imputer&#x27;,\n",
       "                                                  SimpleImputer(strategy=&#x27;most_frequent&#x27;)),\n",
       "                                                 (&#x27;one_hot_encoder&#x27;,\n",
       "                                                  OneHotEncoder())]),\n",
       "                                 [&#x27;Species&#x27;]),\n",
       "                                (&#x27;num&#x27;,\n",
       "                                 Pipeline(steps=[(&#x27;num_imputer&#x27;,\n",
       "                                                  SimpleImputer(strategy=&#x27;median&#x27;)),\n",
       "                                                 (&#x27;std_scalar&#x27;,\n",
       "                                                  StandardScaler())]),\n",
       "                                 [&#x27;Length1&#x27;, &#x27;Length2&#x27;, &#x27;Length3&#x27;, &#x27;Height&#x27;,\n",
       "                                  &#x27;Width&#x27;])],\n",
       "                  verbose_feature_names_out=False)</pre></div></div></div><div class=\"sk-parallel\"><div class=\"sk-parallel-item\"><div class=\"sk-item\"><div class=\"sk-label-container\"><div class=\"sk-label sk-toggleable\"><input class=\"sk-toggleable__control sk-hidden--visually\" id=\"0975ca91-eeee-4d5e-b3a9-609812259575\" type=\"checkbox\" ><label for=\"0975ca91-eeee-4d5e-b3a9-609812259575\" class=\"sk-toggleable__label sk-toggleable__label-arrow\">cat</label><div class=\"sk-toggleable__content\"><pre>[&#x27;Species&#x27;]</pre></div></div></div><div class=\"sk-serial\"><div class=\"sk-item\"><div class=\"sk-serial\"><div class=\"sk-item\"><div class=\"sk-estimator sk-toggleable\"><input class=\"sk-toggleable__control sk-hidden--visually\" id=\"43d6ef47-c05f-4a8b-8f88-cabfeda2b217\" type=\"checkbox\" ><label for=\"43d6ef47-c05f-4a8b-8f88-cabfeda2b217\" class=\"sk-toggleable__label sk-toggleable__label-arrow\">SimpleImputer</label><div class=\"sk-toggleable__content\"><pre>SimpleImputer(strategy=&#x27;most_frequent&#x27;)</pre></div></div></div><div class=\"sk-item\"><div class=\"sk-estimator sk-toggleable\"><input class=\"sk-toggleable__control sk-hidden--visually\" id=\"18525983-bdac-429f-abec-83b415b0a8c4\" type=\"checkbox\" ><label for=\"18525983-bdac-429f-abec-83b415b0a8c4\" class=\"sk-toggleable__label sk-toggleable__label-arrow\">OneHotEncoder</label><div class=\"sk-toggleable__content\"><pre>OneHotEncoder()</pre></div></div></div></div></div></div></div></div><div class=\"sk-parallel-item\"><div class=\"sk-item\"><div class=\"sk-label-container\"><div class=\"sk-label sk-toggleable\"><input class=\"sk-toggleable__control sk-hidden--visually\" id=\"c6154f96-4efb-4448-b1ed-fadf4eecf47b\" type=\"checkbox\" ><label for=\"c6154f96-4efb-4448-b1ed-fadf4eecf47b\" class=\"sk-toggleable__label sk-toggleable__label-arrow\">num</label><div class=\"sk-toggleable__content\"><pre>[&#x27;Length1&#x27;, &#x27;Length2&#x27;, &#x27;Length3&#x27;, &#x27;Height&#x27;, &#x27;Width&#x27;]</pre></div></div></div><div class=\"sk-serial\"><div class=\"sk-item\"><div class=\"sk-serial\"><div class=\"sk-item\"><div class=\"sk-estimator sk-toggleable\"><input class=\"sk-toggleable__control sk-hidden--visually\" id=\"d9affb6e-189f-4cbe-b297-7c4329710f92\" type=\"checkbox\" ><label for=\"d9affb6e-189f-4cbe-b297-7c4329710f92\" class=\"sk-toggleable__label sk-toggleable__label-arrow\">SimpleImputer</label><div class=\"sk-toggleable__content\"><pre>SimpleImputer(strategy=&#x27;median&#x27;)</pre></div></div></div><div class=\"sk-item\"><div class=\"sk-estimator sk-toggleable\"><input class=\"sk-toggleable__control sk-hidden--visually\" id=\"63cba792-4b91-49b9-99c4-c0c1b2c7428c\" type=\"checkbox\" ><label for=\"63cba792-4b91-49b9-99c4-c0c1b2c7428c\" class=\"sk-toggleable__label sk-toggleable__label-arrow\">StandardScaler</label><div class=\"sk-toggleable__content\"><pre>StandardScaler()</pre></div></div></div></div></div></div></div></div><div class=\"sk-parallel-item\"><div class=\"sk-item\"><div class=\"sk-label-container\"><div class=\"sk-label sk-toggleable\"><input class=\"sk-toggleable__control sk-hidden--visually\" id=\"b666bfea-a4fb-464f-b2c5-309ecef522e5\" type=\"checkbox\" ><label for=\"b666bfea-a4fb-464f-b2c5-309ecef522e5\" class=\"sk-toggleable__label sk-toggleable__label-arrow\">remainder</label><div class=\"sk-toggleable__content\"><pre></pre></div></div></div><div class=\"sk-serial\"><div class=\"sk-item\"><div class=\"sk-estimator sk-toggleable\"><input class=\"sk-toggleable__control sk-hidden--visually\" id=\"4e297503-0a11-4084-840d-f99d688c1e60\" type=\"checkbox\" ><label for=\"4e297503-0a11-4084-840d-f99d688c1e60\" class=\"sk-toggleable__label sk-toggleable__label-arrow\">passthrough</label><div class=\"sk-toggleable__content\"><pre>passthrough</pre></div></div></div></div></div></div></div></div><div class=\"sk-item\"><div class=\"sk-label-container\"><div class=\"sk-label sk-toggleable\"><input class=\"sk-toggleable__control sk-hidden--visually\" id=\"b981a1eb-bd91-422b-bdf3-af69134449ae\" type=\"checkbox\" ><label for=\"b981a1eb-bd91-422b-bdf3-af69134449ae\" class=\"sk-toggleable__label sk-toggleable__label-arrow\">model_training2: Pipeline</label><div class=\"sk-toggleable__content\"><pre>Pipeline(steps=[(&#x27;model2&#x27;, Lasso(random_state=124))])</pre></div></div></div><div class=\"sk-serial\"><div class=\"sk-item\"><div class=\"sk-estimator sk-toggleable\"><input class=\"sk-toggleable__control sk-hidden--visually\" id=\"ed26bff2-3e56-4739-9619-5715532b3a7d\" type=\"checkbox\" ><label for=\"ed26bff2-3e56-4739-9619-5715532b3a7d\" class=\"sk-toggleable__label sk-toggleable__label-arrow\">Lasso</label><div class=\"sk-toggleable__content\"><pre>Lasso(random_state=124)</pre></div></div></div></div></div></div></div></div></div>"
      ],
      "text/plain": [
       "Pipeline(steps=[('preprocessing',\n",
       "                 ColumnTransformer(remainder='passthrough',\n",
       "                                   transformers=[('cat',\n",
       "                                                  Pipeline(steps=[('cat_imputer',\n",
       "                                                                   SimpleImputer(strategy='most_frequent')),\n",
       "                                                                  ('one_hot_encoder',\n",
       "                                                                   OneHotEncoder())]),\n",
       "                                                  ['Species']),\n",
       "                                                 ('num',\n",
       "                                                  Pipeline(steps=[('num_imputer',\n",
       "                                                                   SimpleImputer(strategy='median')),\n",
       "                                                                  ('std_scalar',\n",
       "                                                                   StandardScaler())]),\n",
       "                                                  ['Length1', 'Length2',\n",
       "                                                   'Length3', 'Height',\n",
       "                                                   'Width'])],\n",
       "                                   verbose_feature_names_out=False)),\n",
       "                ('model_training2',\n",
       "                 Pipeline(steps=[('model2', Lasso(random_state=124))]))])"
      ]
     },
     "execution_count": 21,
     "metadata": {},
     "output_type": "execute_result"
    }
   ],
   "source": [
    "full_pipeline2"
   ]
  },
  {
   "cell_type": "code",
   "execution_count": 22,
   "metadata": {},
   "outputs": [],
   "source": [
    "## saving the full_pipeline2 diagram as a html file\n",
    "\n",
    "with open('pipeline_vizualization/Lasso_regression_pipeline.html','w',encoding=\"utf-8\") as f:\n",
    "    f.write(estimator_html_repr(full_pipeline2))"
   ]
  },
  {
   "cell_type": "code",
   "execution_count": 23,
   "metadata": {},
   "outputs": [
    {
     "data": {
      "text/html": [
       "<style>#sk-c77fcb9f-b768-494a-ae8e-0bbe7f8f874e {color: black;background-color: white;}#sk-c77fcb9f-b768-494a-ae8e-0bbe7f8f874e pre{padding: 0;}#sk-c77fcb9f-b768-494a-ae8e-0bbe7f8f874e div.sk-toggleable {background-color: white;}#sk-c77fcb9f-b768-494a-ae8e-0bbe7f8f874e label.sk-toggleable__label {cursor: pointer;display: block;width: 100%;margin-bottom: 0;padding: 0.3em;box-sizing: border-box;text-align: center;}#sk-c77fcb9f-b768-494a-ae8e-0bbe7f8f874e label.sk-toggleable__label-arrow:before {content: \"▸\";float: left;margin-right: 0.25em;color: #696969;}#sk-c77fcb9f-b768-494a-ae8e-0bbe7f8f874e label.sk-toggleable__label-arrow:hover:before {color: black;}#sk-c77fcb9f-b768-494a-ae8e-0bbe7f8f874e div.sk-estimator:hover label.sk-toggleable__label-arrow:before {color: black;}#sk-c77fcb9f-b768-494a-ae8e-0bbe7f8f874e div.sk-toggleable__content {max-height: 0;max-width: 0;overflow: hidden;text-align: left;background-color: #f0f8ff;}#sk-c77fcb9f-b768-494a-ae8e-0bbe7f8f874e div.sk-toggleable__content pre {margin: 0.2em;color: black;border-radius: 0.25em;background-color: #f0f8ff;}#sk-c77fcb9f-b768-494a-ae8e-0bbe7f8f874e input.sk-toggleable__control:checked~div.sk-toggleable__content {max-height: 200px;max-width: 100%;overflow: auto;}#sk-c77fcb9f-b768-494a-ae8e-0bbe7f8f874e input.sk-toggleable__control:checked~label.sk-toggleable__label-arrow:before {content: \"▾\";}#sk-c77fcb9f-b768-494a-ae8e-0bbe7f8f874e div.sk-estimator input.sk-toggleable__control:checked~label.sk-toggleable__label {background-color: #d4ebff;}#sk-c77fcb9f-b768-494a-ae8e-0bbe7f8f874e div.sk-label input.sk-toggleable__control:checked~label.sk-toggleable__label {background-color: #d4ebff;}#sk-c77fcb9f-b768-494a-ae8e-0bbe7f8f874e input.sk-hidden--visually {border: 0;clip: rect(1px 1px 1px 1px);clip: rect(1px, 1px, 1px, 1px);height: 1px;margin: -1px;overflow: hidden;padding: 0;position: absolute;width: 1px;}#sk-c77fcb9f-b768-494a-ae8e-0bbe7f8f874e div.sk-estimator {font-family: monospace;background-color: #f0f8ff;border: 1px dotted black;border-radius: 0.25em;box-sizing: border-box;margin-bottom: 0.5em;}#sk-c77fcb9f-b768-494a-ae8e-0bbe7f8f874e div.sk-estimator:hover {background-color: #d4ebff;}#sk-c77fcb9f-b768-494a-ae8e-0bbe7f8f874e div.sk-parallel-item::after {content: \"\";width: 100%;border-bottom: 1px solid gray;flex-grow: 1;}#sk-c77fcb9f-b768-494a-ae8e-0bbe7f8f874e div.sk-label:hover label.sk-toggleable__label {background-color: #d4ebff;}#sk-c77fcb9f-b768-494a-ae8e-0bbe7f8f874e div.sk-serial::before {content: \"\";position: absolute;border-left: 1px solid gray;box-sizing: border-box;top: 2em;bottom: 0;left: 50%;}#sk-c77fcb9f-b768-494a-ae8e-0bbe7f8f874e div.sk-serial {display: flex;flex-direction: column;align-items: center;background-color: white;padding-right: 0.2em;padding-left: 0.2em;}#sk-c77fcb9f-b768-494a-ae8e-0bbe7f8f874e div.sk-item {z-index: 1;}#sk-c77fcb9f-b768-494a-ae8e-0bbe7f8f874e div.sk-parallel {display: flex;align-items: stretch;justify-content: center;background-color: white;}#sk-c77fcb9f-b768-494a-ae8e-0bbe7f8f874e div.sk-parallel::before {content: \"\";position: absolute;border-left: 1px solid gray;box-sizing: border-box;top: 2em;bottom: 0;left: 50%;}#sk-c77fcb9f-b768-494a-ae8e-0bbe7f8f874e div.sk-parallel-item {display: flex;flex-direction: column;position: relative;background-color: white;}#sk-c77fcb9f-b768-494a-ae8e-0bbe7f8f874e div.sk-parallel-item:first-child::after {align-self: flex-end;width: 50%;}#sk-c77fcb9f-b768-494a-ae8e-0bbe7f8f874e div.sk-parallel-item:last-child::after {align-self: flex-start;width: 50%;}#sk-c77fcb9f-b768-494a-ae8e-0bbe7f8f874e div.sk-parallel-item:only-child::after {width: 0;}#sk-c77fcb9f-b768-494a-ae8e-0bbe7f8f874e div.sk-dashed-wrapped {border: 1px dashed gray;margin: 0 0.4em 0.5em 0.4em;box-sizing: border-box;padding-bottom: 0.4em;background-color: white;position: relative;}#sk-c77fcb9f-b768-494a-ae8e-0bbe7f8f874e div.sk-label label {font-family: monospace;font-weight: bold;background-color: white;display: inline-block;line-height: 1.2em;}#sk-c77fcb9f-b768-494a-ae8e-0bbe7f8f874e div.sk-label-container {position: relative;z-index: 2;text-align: center;}#sk-c77fcb9f-b768-494a-ae8e-0bbe7f8f874e div.sk-container {/* jupyter's `normalize.less` sets `[hidden] { display: none; }` but bootstrap.min.css set `[hidden] { display: none !important; }` so we also need the `!important` here to be able to override the default hidden behavior on the sphinx rendered scikit-learn.org. See: https://github.com/scikit-learn/scikit-learn/issues/21755 */display: inline-block !important;position: relative;}#sk-c77fcb9f-b768-494a-ae8e-0bbe7f8f874e div.sk-text-repr-fallback {display: none;}</style><div id=\"sk-c77fcb9f-b768-494a-ae8e-0bbe7f8f874e\" class=\"sk-top-container\"><div class=\"sk-text-repr-fallback\"><pre>Pipeline(steps=[(&#x27;preprocessing&#x27;,\n",
       "                 ColumnTransformer(remainder=&#x27;passthrough&#x27;,\n",
       "                                   transformers=[(&#x27;cat&#x27;,\n",
       "                                                  Pipeline(steps=[(&#x27;cat_imputer&#x27;,\n",
       "                                                                   SimpleImputer(strategy=&#x27;most_frequent&#x27;)),\n",
       "                                                                  (&#x27;one_hot_encoder&#x27;,\n",
       "                                                                   OneHotEncoder())]),\n",
       "                                                  [&#x27;Species&#x27;]),\n",
       "                                                 (&#x27;num&#x27;,\n",
       "                                                  Pipeline(steps=[(&#x27;num_imputer&#x27;,\n",
       "                                                                   SimpleImputer(strategy=&#x27;median&#x27;)),\n",
       "                                                                  (&#x27;std_scalar&#x27;,\n",
       "                                                                   StandardScaler())]),\n",
       "                                                  [&#x27;Length1&#x27;, &#x27;Length2&#x27;,\n",
       "                                                   &#x27;Length3&#x27;, &#x27;Height&#x27;,\n",
       "                                                   &#x27;Width&#x27;])],\n",
       "                                   verbose_feature_names_out=False)),\n",
       "                (&#x27;model_training3&#x27;,\n",
       "                 Pipeline(steps=[(&#x27;model3&#x27;, ElasticNet(random_state=243))]))])</pre><b>Please rerun this cell to show the HTML repr or trust the notebook.</b></div><div class=\"sk-container\" hidden><div class=\"sk-item sk-dashed-wrapped\"><div class=\"sk-label-container\"><div class=\"sk-label sk-toggleable\"><input class=\"sk-toggleable__control sk-hidden--visually\" id=\"b8f4b4a8-3e4d-4d51-a53d-50962d38507a\" type=\"checkbox\" ><label for=\"b8f4b4a8-3e4d-4d51-a53d-50962d38507a\" class=\"sk-toggleable__label sk-toggleable__label-arrow\">Pipeline</label><div class=\"sk-toggleable__content\"><pre>Pipeline(steps=[(&#x27;preprocessing&#x27;,\n",
       "                 ColumnTransformer(remainder=&#x27;passthrough&#x27;,\n",
       "                                   transformers=[(&#x27;cat&#x27;,\n",
       "                                                  Pipeline(steps=[(&#x27;cat_imputer&#x27;,\n",
       "                                                                   SimpleImputer(strategy=&#x27;most_frequent&#x27;)),\n",
       "                                                                  (&#x27;one_hot_encoder&#x27;,\n",
       "                                                                   OneHotEncoder())]),\n",
       "                                                  [&#x27;Species&#x27;]),\n",
       "                                                 (&#x27;num&#x27;,\n",
       "                                                  Pipeline(steps=[(&#x27;num_imputer&#x27;,\n",
       "                                                                   SimpleImputer(strategy=&#x27;median&#x27;)),\n",
       "                                                                  (&#x27;std_scalar&#x27;,\n",
       "                                                                   StandardScaler())]),\n",
       "                                                  [&#x27;Length1&#x27;, &#x27;Length2&#x27;,\n",
       "                                                   &#x27;Length3&#x27;, &#x27;Height&#x27;,\n",
       "                                                   &#x27;Width&#x27;])],\n",
       "                                   verbose_feature_names_out=False)),\n",
       "                (&#x27;model_training3&#x27;,\n",
       "                 Pipeline(steps=[(&#x27;model3&#x27;, ElasticNet(random_state=243))]))])</pre></div></div></div><div class=\"sk-serial\"><div class=\"sk-item sk-dashed-wrapped\"><div class=\"sk-label-container\"><div class=\"sk-label sk-toggleable\"><input class=\"sk-toggleable__control sk-hidden--visually\" id=\"66aa03d1-a68a-463f-944c-cde7f38f34d2\" type=\"checkbox\" ><label for=\"66aa03d1-a68a-463f-944c-cde7f38f34d2\" class=\"sk-toggleable__label sk-toggleable__label-arrow\">preprocessing: ColumnTransformer</label><div class=\"sk-toggleable__content\"><pre>ColumnTransformer(remainder=&#x27;passthrough&#x27;,\n",
       "                  transformers=[(&#x27;cat&#x27;,\n",
       "                                 Pipeline(steps=[(&#x27;cat_imputer&#x27;,\n",
       "                                                  SimpleImputer(strategy=&#x27;most_frequent&#x27;)),\n",
       "                                                 (&#x27;one_hot_encoder&#x27;,\n",
       "                                                  OneHotEncoder())]),\n",
       "                                 [&#x27;Species&#x27;]),\n",
       "                                (&#x27;num&#x27;,\n",
       "                                 Pipeline(steps=[(&#x27;num_imputer&#x27;,\n",
       "                                                  SimpleImputer(strategy=&#x27;median&#x27;)),\n",
       "                                                 (&#x27;std_scalar&#x27;,\n",
       "                                                  StandardScaler())]),\n",
       "                                 [&#x27;Length1&#x27;, &#x27;Length2&#x27;, &#x27;Length3&#x27;, &#x27;Height&#x27;,\n",
       "                                  &#x27;Width&#x27;])],\n",
       "                  verbose_feature_names_out=False)</pre></div></div></div><div class=\"sk-parallel\"><div class=\"sk-parallel-item\"><div class=\"sk-item\"><div class=\"sk-label-container\"><div class=\"sk-label sk-toggleable\"><input class=\"sk-toggleable__control sk-hidden--visually\" id=\"06f4e27e-1e9c-4ef3-9814-f454e5ac06b7\" type=\"checkbox\" ><label for=\"06f4e27e-1e9c-4ef3-9814-f454e5ac06b7\" class=\"sk-toggleable__label sk-toggleable__label-arrow\">cat</label><div class=\"sk-toggleable__content\"><pre>[&#x27;Species&#x27;]</pre></div></div></div><div class=\"sk-serial\"><div class=\"sk-item\"><div class=\"sk-serial\"><div class=\"sk-item\"><div class=\"sk-estimator sk-toggleable\"><input class=\"sk-toggleable__control sk-hidden--visually\" id=\"a81c4d7b-f1d1-412c-b6c5-a5fec293c1ab\" type=\"checkbox\" ><label for=\"a81c4d7b-f1d1-412c-b6c5-a5fec293c1ab\" class=\"sk-toggleable__label sk-toggleable__label-arrow\">SimpleImputer</label><div class=\"sk-toggleable__content\"><pre>SimpleImputer(strategy=&#x27;most_frequent&#x27;)</pre></div></div></div><div class=\"sk-item\"><div class=\"sk-estimator sk-toggleable\"><input class=\"sk-toggleable__control sk-hidden--visually\" id=\"009db961-be1e-4d13-879c-6c3247acfaf5\" type=\"checkbox\" ><label for=\"009db961-be1e-4d13-879c-6c3247acfaf5\" class=\"sk-toggleable__label sk-toggleable__label-arrow\">OneHotEncoder</label><div class=\"sk-toggleable__content\"><pre>OneHotEncoder()</pre></div></div></div></div></div></div></div></div><div class=\"sk-parallel-item\"><div class=\"sk-item\"><div class=\"sk-label-container\"><div class=\"sk-label sk-toggleable\"><input class=\"sk-toggleable__control sk-hidden--visually\" id=\"1652390f-02a1-4372-81ac-230f71499b27\" type=\"checkbox\" ><label for=\"1652390f-02a1-4372-81ac-230f71499b27\" class=\"sk-toggleable__label sk-toggleable__label-arrow\">num</label><div class=\"sk-toggleable__content\"><pre>[&#x27;Length1&#x27;, &#x27;Length2&#x27;, &#x27;Length3&#x27;, &#x27;Height&#x27;, &#x27;Width&#x27;]</pre></div></div></div><div class=\"sk-serial\"><div class=\"sk-item\"><div class=\"sk-serial\"><div class=\"sk-item\"><div class=\"sk-estimator sk-toggleable\"><input class=\"sk-toggleable__control sk-hidden--visually\" id=\"bdcb48db-7809-4534-997b-186f6ab2efe1\" type=\"checkbox\" ><label for=\"bdcb48db-7809-4534-997b-186f6ab2efe1\" class=\"sk-toggleable__label sk-toggleable__label-arrow\">SimpleImputer</label><div class=\"sk-toggleable__content\"><pre>SimpleImputer(strategy=&#x27;median&#x27;)</pre></div></div></div><div class=\"sk-item\"><div class=\"sk-estimator sk-toggleable\"><input class=\"sk-toggleable__control sk-hidden--visually\" id=\"1415df3c-3fa5-45bd-b752-6ff4404d2ec5\" type=\"checkbox\" ><label for=\"1415df3c-3fa5-45bd-b752-6ff4404d2ec5\" class=\"sk-toggleable__label sk-toggleable__label-arrow\">StandardScaler</label><div class=\"sk-toggleable__content\"><pre>StandardScaler()</pre></div></div></div></div></div></div></div></div><div class=\"sk-parallel-item\"><div class=\"sk-item\"><div class=\"sk-label-container\"><div class=\"sk-label sk-toggleable\"><input class=\"sk-toggleable__control sk-hidden--visually\" id=\"bd712a42-1cf8-428b-85de-504bbc676a61\" type=\"checkbox\" ><label for=\"bd712a42-1cf8-428b-85de-504bbc676a61\" class=\"sk-toggleable__label sk-toggleable__label-arrow\">remainder</label><div class=\"sk-toggleable__content\"><pre></pre></div></div></div><div class=\"sk-serial\"><div class=\"sk-item\"><div class=\"sk-estimator sk-toggleable\"><input class=\"sk-toggleable__control sk-hidden--visually\" id=\"057d2a37-43c6-4023-a4ed-b141106a70fc\" type=\"checkbox\" ><label for=\"057d2a37-43c6-4023-a4ed-b141106a70fc\" class=\"sk-toggleable__label sk-toggleable__label-arrow\">passthrough</label><div class=\"sk-toggleable__content\"><pre>passthrough</pre></div></div></div></div></div></div></div></div><div class=\"sk-item\"><div class=\"sk-label-container\"><div class=\"sk-label sk-toggleable\"><input class=\"sk-toggleable__control sk-hidden--visually\" id=\"82d1c257-dd77-4e30-b28c-3bf4e7ae8cee\" type=\"checkbox\" ><label for=\"82d1c257-dd77-4e30-b28c-3bf4e7ae8cee\" class=\"sk-toggleable__label sk-toggleable__label-arrow\">model_training3: Pipeline</label><div class=\"sk-toggleable__content\"><pre>Pipeline(steps=[(&#x27;model3&#x27;, ElasticNet(random_state=243))])</pre></div></div></div><div class=\"sk-serial\"><div class=\"sk-item\"><div class=\"sk-estimator sk-toggleable\"><input class=\"sk-toggleable__control sk-hidden--visually\" id=\"7bbfc800-0943-485a-930d-c99c3929f705\" type=\"checkbox\" ><label for=\"7bbfc800-0943-485a-930d-c99c3929f705\" class=\"sk-toggleable__label sk-toggleable__label-arrow\">ElasticNet</label><div class=\"sk-toggleable__content\"><pre>ElasticNet(random_state=243)</pre></div></div></div></div></div></div></div></div></div>"
      ],
      "text/plain": [
       "Pipeline(steps=[('preprocessing',\n",
       "                 ColumnTransformer(remainder='passthrough',\n",
       "                                   transformers=[('cat',\n",
       "                                                  Pipeline(steps=[('cat_imputer',\n",
       "                                                                   SimpleImputer(strategy='most_frequent')),\n",
       "                                                                  ('one_hot_encoder',\n",
       "                                                                   OneHotEncoder())]),\n",
       "                                                  ['Species']),\n",
       "                                                 ('num',\n",
       "                                                  Pipeline(steps=[('num_imputer',\n",
       "                                                                   SimpleImputer(strategy='median')),\n",
       "                                                                  ('std_scalar',\n",
       "                                                                   StandardScaler())]),\n",
       "                                                  ['Length1', 'Length2',\n",
       "                                                   'Length3', 'Height',\n",
       "                                                   'Width'])],\n",
       "                                   verbose_feature_names_out=False)),\n",
       "                ('model_training3',\n",
       "                 Pipeline(steps=[('model3', ElasticNet(random_state=243))]))])"
      ]
     },
     "execution_count": 23,
     "metadata": {},
     "output_type": "execute_result"
    }
   ],
   "source": [
    "full_pipeline3"
   ]
  },
  {
   "cell_type": "code",
   "execution_count": 24,
   "metadata": {},
   "outputs": [],
   "source": [
    "## saving the full_pipeline3 diagram as a html file\n",
    "\n",
    "with open('pipeline_vizualization/ElasticNet_regression_pipeline.html','w',encoding=\"utf-8\") as f:\n",
    "    f.write(estimator_html_repr(full_pipeline3))"
   ]
  },
  {
   "cell_type": "code",
   "execution_count": 25,
   "metadata": {},
   "outputs": [
    {
     "name": "stdout",
     "output_type": "stream",
     "text": [
      "R squared score for the ridge regression on training set is 0.908\n",
      "R squared score for the lasso regression on training set is 0.91\n",
      "R squared score for the elasticnet regression on training set is 0.851\n"
     ]
    },
    {
     "name": "stderr",
     "output_type": "stream",
     "text": [
      "C:\\Users\\shiva\\AppData\\Roaming\\Python\\Python310\\site-packages\\sklearn\\linear_model\\_coordinate_descent.py:647: ConvergenceWarning: Objective did not converge. You might want to increase the number of iterations, check the scale of the features or consider increasing regularisation. Duality gap: 1.237e+03, tolerance: 1.060e+03\n",
      "  model = cd_fast.enet_coordinate_descent(\n",
      "C:\\Users\\shiva\\AppData\\Roaming\\Python\\Python310\\site-packages\\sklearn\\linear_model\\_coordinate_descent.py:647: ConvergenceWarning: Objective did not converge. You might want to increase the number of iterations, check the scale of the features or consider increasing regularisation. Duality gap: 1.708e+03, tolerance: 1.487e+03\n",
      "  model = cd_fast.enet_coordinate_descent(\n",
      "C:\\Users\\shiva\\AppData\\Roaming\\Python\\Python310\\site-packages\\sklearn\\linear_model\\_coordinate_descent.py:647: ConvergenceWarning: Objective did not converge. You might want to increase the number of iterations, check the scale of the features or consider increasing regularisation. Duality gap: 3.237e+03, tolerance: 1.386e+03\n",
      "  model = cd_fast.enet_coordinate_descent(\n"
     ]
    }
   ],
   "source": [
    "## Using cross validation to find the best model out of three \n",
    "\n",
    "kf = KFold(n_splits=5,shuffle=True,random_state=987)\n",
    "score1 = cross_val_score(full_pipeline1,x_train,y_train,cv=kf,scoring='r2').mean()\n",
    "score2 = cross_val_score(full_pipeline2,x_train,y_train,cv=kf,scoring='r2').mean()\n",
    "score3 = cross_val_score(full_pipeline3,x_train,y_train,cv=kf,scoring='r2').mean()\n",
    "\n",
    "print(f\"R squared score for the ridge regression on training set is {np.round(score1,3)}\")\n",
    "print(f\"R squared score for the lasso regression on training set is {np.round(score2,3)}\")\n",
    "print(f\"R squared score for the elasticnet regression on training set is {np.round(score3,3)}\")"
   ]
  },
  {
   "cell_type": "markdown",
   "metadata": {},
   "source": [
    "Since the lasso regression is giving the highest score, we will use that to train our model"
   ]
  },
  {
   "cell_type": "code",
   "execution_count": 26,
   "metadata": {},
   "outputs": [
    {
     "data": {
      "text/plain": [
       "dict_keys(['memory', 'steps', 'verbose', 'preprocessing', 'model_training2', 'preprocessing__n_jobs', 'preprocessing__remainder', 'preprocessing__sparse_threshold', 'preprocessing__transformer_weights', 'preprocessing__transformers', 'preprocessing__verbose', 'preprocessing__verbose_feature_names_out', 'preprocessing__cat', 'preprocessing__num', 'preprocessing__cat__memory', 'preprocessing__cat__steps', 'preprocessing__cat__verbose', 'preprocessing__cat__cat_imputer', 'preprocessing__cat__one_hot_encoder', 'preprocessing__cat__cat_imputer__add_indicator', 'preprocessing__cat__cat_imputer__copy', 'preprocessing__cat__cat_imputer__fill_value', 'preprocessing__cat__cat_imputer__missing_values', 'preprocessing__cat__cat_imputer__strategy', 'preprocessing__cat__cat_imputer__verbose', 'preprocessing__cat__one_hot_encoder__categories', 'preprocessing__cat__one_hot_encoder__drop', 'preprocessing__cat__one_hot_encoder__dtype', 'preprocessing__cat__one_hot_encoder__handle_unknown', 'preprocessing__cat__one_hot_encoder__sparse', 'preprocessing__num__memory', 'preprocessing__num__steps', 'preprocessing__num__verbose', 'preprocessing__num__num_imputer', 'preprocessing__num__std_scalar', 'preprocessing__num__num_imputer__add_indicator', 'preprocessing__num__num_imputer__copy', 'preprocessing__num__num_imputer__fill_value', 'preprocessing__num__num_imputer__missing_values', 'preprocessing__num__num_imputer__strategy', 'preprocessing__num__num_imputer__verbose', 'preprocessing__num__std_scalar__copy', 'preprocessing__num__std_scalar__with_mean', 'preprocessing__num__std_scalar__with_std', 'model_training2__memory', 'model_training2__steps', 'model_training2__verbose', 'model_training2__model2', 'model_training2__model2__alpha', 'model_training2__model2__copy_X', 'model_training2__model2__fit_intercept', 'model_training2__model2__max_iter', 'model_training2__model2__normalize', 'model_training2__model2__positive', 'model_training2__model2__precompute', 'model_training2__model2__random_state', 'model_training2__model2__selection', 'model_training2__model2__tol', 'model_training2__model2__warm_start'])"
      ]
     },
     "execution_count": 26,
     "metadata": {},
     "output_type": "execute_result"
    }
   ],
   "source": [
    "## getting the parameters that can be tuned for full_pipeline2\n",
    "\n",
    "full_pipeline2.get_params().keys()"
   ]
  },
  {
   "cell_type": "code",
   "execution_count": 27,
   "metadata": {},
   "outputs": [],
   "source": [
    "tuning_parameters = {}\n",
    "tuning_parameters['model_training2__model2__alpha'] = np.arange(1,10,0.5)\n",
    "tuning_parameters['model_training2__model2__selection'] = ['cyclic','random']"
   ]
  },
  {
   "cell_type": "code",
   "execution_count": 28,
   "metadata": {},
   "outputs": [],
   "source": [
    "hyperparameter_tuning_results = RandomizedSearchCV(full_pipeline2,tuning_parameters,scoring='r2',random_state=764)"
   ]
  },
  {
   "cell_type": "code",
   "execution_count": 29,
   "metadata": {},
   "outputs": [
    {
     "name": "stderr",
     "output_type": "stream",
     "text": [
      "C:\\Users\\shiva\\AppData\\Roaming\\Python\\Python310\\site-packages\\sklearn\\linear_model\\_coordinate_descent.py:647: ConvergenceWarning: Objective did not converge. You might want to increase the number of iterations, check the scale of the features or consider increasing regularisation. Duality gap: 1.388e+03, tolerance: 1.278e+03\n",
      "  model = cd_fast.enet_coordinate_descent(\n",
      "C:\\Users\\shiva\\AppData\\Roaming\\Python\\Python310\\site-packages\\sklearn\\linear_model\\_coordinate_descent.py:647: ConvergenceWarning: Objective did not converge. You might want to increase the number of iterations, check the scale of the features or consider increasing regularisation. Duality gap: 1.768e+03, tolerance: 1.473e+03\n",
      "  model = cd_fast.enet_coordinate_descent(\n",
      "C:\\Users\\shiva\\AppData\\Roaming\\Python\\Python310\\site-packages\\sklearn\\linear_model\\_coordinate_descent.py:647: ConvergenceWarning: Objective did not converge. You might want to increase the number of iterations, check the scale of the features or consider increasing regularisation. Duality gap: 2.037e+03, tolerance: 1.473e+03\n",
      "  model = cd_fast.enet_coordinate_descent(\n",
      "C:\\Users\\shiva\\AppData\\Roaming\\Python\\Python310\\site-packages\\sklearn\\linear_model\\_coordinate_descent.py:647: ConvergenceWarning: Objective did not converge. You might want to increase the number of iterations, check the scale of the features or consider increasing regularisation. Duality gap: 1.888e+03, tolerance: 1.285e+03\n",
      "  model = cd_fast.enet_coordinate_descent(\n",
      "C:\\Users\\shiva\\AppData\\Roaming\\Python\\Python310\\site-packages\\sklearn\\linear_model\\_coordinate_descent.py:647: ConvergenceWarning: Objective did not converge. You might want to increase the number of iterations, check the scale of the features or consider increasing regularisation. Duality gap: 4.877e+03, tolerance: 1.229e+03\n",
      "  model = cd_fast.enet_coordinate_descent(\n",
      "C:\\Users\\shiva\\AppData\\Roaming\\Python\\Python310\\site-packages\\sklearn\\linear_model\\_coordinate_descent.py:647: ConvergenceWarning: Objective did not converge. You might want to increase the number of iterations, check the scale of the features or consider increasing regularisation. Duality gap: 4.405e+03, tolerance: 1.473e+03\n",
      "  model = cd_fast.enet_coordinate_descent(\n",
      "C:\\Users\\shiva\\AppData\\Roaming\\Python\\Python310\\site-packages\\sklearn\\linear_model\\_coordinate_descent.py:647: ConvergenceWarning: Objective did not converge. You might want to increase the number of iterations, check the scale of the features or consider increasing regularisation. Duality gap: 2.687e+03, tolerance: 1.513e+03\n",
      "  model = cd_fast.enet_coordinate_descent(\n",
      "C:\\Users\\shiva\\AppData\\Roaming\\Python\\Python310\\site-packages\\sklearn\\linear_model\\_coordinate_descent.py:647: ConvergenceWarning: Objective did not converge. You might want to increase the number of iterations, check the scale of the features or consider increasing regularisation. Duality gap: 4.239e+03, tolerance: 1.285e+03\n",
      "  model = cd_fast.enet_coordinate_descent(\n",
      "C:\\Users\\shiva\\AppData\\Roaming\\Python\\Python310\\site-packages\\sklearn\\linear_model\\_coordinate_descent.py:647: ConvergenceWarning: Objective did not converge. You might want to increase the number of iterations, check the scale of the features or consider increasing regularisation. Duality gap: 2.125e+03, tolerance: 1.278e+03\n",
      "  model = cd_fast.enet_coordinate_descent(\n",
      "C:\\Users\\shiva\\AppData\\Roaming\\Python\\Python310\\site-packages\\sklearn\\linear_model\\_coordinate_descent.py:647: ConvergenceWarning: Objective did not converge. You might want to increase the number of iterations, check the scale of the features or consider increasing regularisation. Duality gap: 1.857e+03, tolerance: 1.513e+03\n",
      "  model = cd_fast.enet_coordinate_descent(\n",
      "C:\\Users\\shiva\\AppData\\Roaming\\Python\\Python310\\site-packages\\sklearn\\linear_model\\_coordinate_descent.py:647: ConvergenceWarning: Objective did not converge. You might want to increase the number of iterations, check the scale of the features or consider increasing regularisation. Duality gap: 2.059e+03, tolerance: 1.278e+03\n",
      "  model = cd_fast.enet_coordinate_descent(\n",
      "C:\\Users\\shiva\\AppData\\Roaming\\Python\\Python310\\site-packages\\sklearn\\linear_model\\_coordinate_descent.py:647: ConvergenceWarning: Objective did not converge. You might want to increase the number of iterations, check the scale of the features or consider increasing regularisation. Duality gap: 4.480e+03, tolerance: 1.473e+03\n",
      "  model = cd_fast.enet_coordinate_descent(\n",
      "C:\\Users\\shiva\\AppData\\Roaming\\Python\\Python310\\site-packages\\sklearn\\linear_model\\_coordinate_descent.py:647: ConvergenceWarning: Objective did not converge. You might want to increase the number of iterations, check the scale of the features or consider increasing regularisation. Duality gap: 4.243e+03, tolerance: 1.513e+03\n",
      "  model = cd_fast.enet_coordinate_descent(\n",
      "C:\\Users\\shiva\\AppData\\Roaming\\Python\\Python310\\site-packages\\sklearn\\linear_model\\_coordinate_descent.py:647: ConvergenceWarning: Objective did not converge. You might want to increase the number of iterations, check the scale of the features or consider increasing regularisation. Duality gap: 3.687e+03, tolerance: 1.285e+03\n",
      "  model = cd_fast.enet_coordinate_descent(\n",
      "C:\\Users\\shiva\\AppData\\Roaming\\Python\\Python310\\site-packages\\sklearn\\linear_model\\_coordinate_descent.py:647: ConvergenceWarning: Objective did not converge. You might want to increase the number of iterations, check the scale of the features or consider increasing regularisation. Duality gap: 2.686e+03, tolerance: 1.278e+03\n",
      "  model = cd_fast.enet_coordinate_descent(\n",
      "C:\\Users\\shiva\\AppData\\Roaming\\Python\\Python310\\site-packages\\sklearn\\linear_model\\_coordinate_descent.py:647: ConvergenceWarning: Objective did not converge. You might want to increase the number of iterations, check the scale of the features or consider increasing regularisation. Duality gap: 2.823e+03, tolerance: 1.473e+03\n",
      "  model = cd_fast.enet_coordinate_descent(\n",
      "C:\\Users\\shiva\\AppData\\Roaming\\Python\\Python310\\site-packages\\sklearn\\linear_model\\_coordinate_descent.py:647: ConvergenceWarning: Objective did not converge. You might want to increase the number of iterations, check the scale of the features or consider increasing regularisation. Duality gap: 4.626e+03, tolerance: 1.513e+03\n",
      "  model = cd_fast.enet_coordinate_descent(\n",
      "C:\\Users\\shiva\\AppData\\Roaming\\Python\\Python310\\site-packages\\sklearn\\linear_model\\_coordinate_descent.py:647: ConvergenceWarning: Objective did not converge. You might want to increase the number of iterations, check the scale of the features or consider increasing regularisation. Duality gap: 1.999e+03, tolerance: 1.285e+03\n",
      "  model = cd_fast.enet_coordinate_descent(\n",
      "C:\\Users\\shiva\\AppData\\Roaming\\Python\\Python310\\site-packages\\sklearn\\linear_model\\_coordinate_descent.py:647: ConvergenceWarning: Objective did not converge. You might want to increase the number of iterations, check the scale of the features or consider increasing regularisation. Duality gap: 2.615e+03, tolerance: 1.278e+03\n",
      "  model = cd_fast.enet_coordinate_descent(\n",
      "C:\\Users\\shiva\\AppData\\Roaming\\Python\\Python310\\site-packages\\sklearn\\linear_model\\_coordinate_descent.py:647: ConvergenceWarning: Objective did not converge. You might want to increase the number of iterations, check the scale of the features or consider increasing regularisation. Duality gap: 1.559e+03, tolerance: 1.473e+03\n",
      "  model = cd_fast.enet_coordinate_descent(\n",
      "C:\\Users\\shiva\\AppData\\Roaming\\Python\\Python310\\site-packages\\sklearn\\linear_model\\_coordinate_descent.py:647: ConvergenceWarning: Objective did not converge. You might want to increase the number of iterations, check the scale of the features or consider increasing regularisation. Duality gap: 1.656e+03, tolerance: 1.513e+03\n",
      "  model = cd_fast.enet_coordinate_descent(\n",
      "C:\\Users\\shiva\\AppData\\Roaming\\Python\\Python310\\site-packages\\sklearn\\linear_model\\_coordinate_descent.py:647: ConvergenceWarning: Objective did not converge. You might want to increase the number of iterations, check the scale of the features or consider increasing regularisation. Duality gap: 1.747e+03, tolerance: 1.278e+03\n",
      "  model = cd_fast.enet_coordinate_descent(\n",
      "C:\\Users\\shiva\\AppData\\Roaming\\Python\\Python310\\site-packages\\sklearn\\linear_model\\_coordinate_descent.py:647: ConvergenceWarning: Objective did not converge. You might want to increase the number of iterations, check the scale of the features or consider increasing regularisation. Duality gap: 5.014e+03, tolerance: 1.695e+03\n",
      "  model = cd_fast.enet_coordinate_descent(\n"
     ]
    }
   ],
   "source": [
    "tuning_results = hyperparameter_tuning_results.fit(x_train,y_train)"
   ]
  },
  {
   "cell_type": "code",
   "execution_count": 30,
   "metadata": {},
   "outputs": [],
   "source": [
    "tuning_results_df = pd.DataFrame(tuning_results.cv_results_)"
   ]
  },
  {
   "cell_type": "code",
   "execution_count": 31,
   "metadata": {},
   "outputs": [
    {
     "data": {
      "text/html": [
       "<div>\n",
       "<style scoped>\n",
       "    .dataframe tbody tr th:only-of-type {\n",
       "        vertical-align: middle;\n",
       "    }\n",
       "\n",
       "    .dataframe tbody tr th {\n",
       "        vertical-align: top;\n",
       "    }\n",
       "\n",
       "    .dataframe thead th {\n",
       "        text-align: right;\n",
       "    }\n",
       "</style>\n",
       "<table border=\"1\" class=\"dataframe\">\n",
       "  <thead>\n",
       "    <tr style=\"text-align: right;\">\n",
       "      <th></th>\n",
       "      <th>param_model_training2__model2__alpha</th>\n",
       "      <th>param_model_training2__model2__selection</th>\n",
       "      <th>mean_test_score</th>\n",
       "      <th>rank_test_score</th>\n",
       "    </tr>\n",
       "  </thead>\n",
       "  <tbody>\n",
       "    <tr>\n",
       "      <th>0</th>\n",
       "      <td>9.5</td>\n",
       "      <td>random</td>\n",
       "      <td>0.898843</td>\n",
       "      <td>10</td>\n",
       "    </tr>\n",
       "    <tr>\n",
       "      <th>1</th>\n",
       "      <td>5.0</td>\n",
       "      <td>cyclic</td>\n",
       "      <td>0.914548</td>\n",
       "      <td>5</td>\n",
       "    </tr>\n",
       "    <tr>\n",
       "      <th>2</th>\n",
       "      <td>3.0</td>\n",
       "      <td>cyclic</td>\n",
       "      <td>0.922627</td>\n",
       "      <td>3</td>\n",
       "    </tr>\n",
       "    <tr>\n",
       "      <th>3</th>\n",
       "      <td>1.5</td>\n",
       "      <td>random</td>\n",
       "      <td>0.928475</td>\n",
       "      <td>1</td>\n",
       "    </tr>\n",
       "    <tr>\n",
       "      <th>4</th>\n",
       "      <td>8.5</td>\n",
       "      <td>random</td>\n",
       "      <td>0.902982</td>\n",
       "      <td>8</td>\n",
       "    </tr>\n",
       "    <tr>\n",
       "      <th>5</th>\n",
       "      <td>8.0</td>\n",
       "      <td>cyclic</td>\n",
       "      <td>0.904501</td>\n",
       "      <td>7</td>\n",
       "    </tr>\n",
       "    <tr>\n",
       "      <th>6</th>\n",
       "      <td>2.5</td>\n",
       "      <td>random</td>\n",
       "      <td>0.924599</td>\n",
       "      <td>2</td>\n",
       "    </tr>\n",
       "    <tr>\n",
       "      <th>7</th>\n",
       "      <td>3.5</td>\n",
       "      <td>random</td>\n",
       "      <td>0.920138</td>\n",
       "      <td>4</td>\n",
       "    </tr>\n",
       "    <tr>\n",
       "      <th>8</th>\n",
       "      <td>6.5</td>\n",
       "      <td>cyclic</td>\n",
       "      <td>0.909650</td>\n",
       "      <td>6</td>\n",
       "    </tr>\n",
       "    <tr>\n",
       "      <th>9</th>\n",
       "      <td>9.0</td>\n",
       "      <td>random</td>\n",
       "      <td>0.900962</td>\n",
       "      <td>9</td>\n",
       "    </tr>\n",
       "  </tbody>\n",
       "</table>\n",
       "</div>"
      ],
      "text/plain": [
       "  param_model_training2__model2__alpha  \\\n",
       "0                                  9.5   \n",
       "1                                  5.0   \n",
       "2                                  3.0   \n",
       "3                                  1.5   \n",
       "4                                  8.5   \n",
       "5                                  8.0   \n",
       "6                                  2.5   \n",
       "7                                  3.5   \n",
       "8                                  6.5   \n",
       "9                                  9.0   \n",
       "\n",
       "  param_model_training2__model2__selection  mean_test_score  rank_test_score  \n",
       "0                                   random         0.898843               10  \n",
       "1                                   cyclic         0.914548                5  \n",
       "2                                   cyclic         0.922627                3  \n",
       "3                                   random         0.928475                1  \n",
       "4                                   random         0.902982                8  \n",
       "5                                   cyclic         0.904501                7  \n",
       "6                                   random         0.924599                2  \n",
       "7                                   random         0.920138                4  \n",
       "8                                   cyclic         0.909650                6  \n",
       "9                                   random         0.900962                9  "
      ]
     },
     "execution_count": 31,
     "metadata": {},
     "output_type": "execute_result"
    }
   ],
   "source": [
    "tuning_results_df[['param_model_training2__model2__alpha','param_model_training2__model2__selection','mean_test_score','rank_test_score']]"
   ]
  },
  {
   "cell_type": "code",
   "execution_count": 32,
   "metadata": {},
   "outputs": [
    {
     "data": {
      "text/plain": [
       "{'model_training2__model2__selection': 'random',\n",
       " 'model_training2__model2__alpha': 1.5}"
      ]
     },
     "execution_count": 32,
     "metadata": {},
     "output_type": "execute_result"
    }
   ],
   "source": [
    "tuning_results.best_params_"
   ]
  },
  {
   "cell_type": "code",
   "execution_count": 33,
   "metadata": {},
   "outputs": [
    {
     "data": {
      "text/html": [
       "<style>#sk-ae024404-a8e9-42c8-bf7e-8a617d7d8fae {color: black;background-color: white;}#sk-ae024404-a8e9-42c8-bf7e-8a617d7d8fae pre{padding: 0;}#sk-ae024404-a8e9-42c8-bf7e-8a617d7d8fae div.sk-toggleable {background-color: white;}#sk-ae024404-a8e9-42c8-bf7e-8a617d7d8fae label.sk-toggleable__label {cursor: pointer;display: block;width: 100%;margin-bottom: 0;padding: 0.3em;box-sizing: border-box;text-align: center;}#sk-ae024404-a8e9-42c8-bf7e-8a617d7d8fae label.sk-toggleable__label-arrow:before {content: \"▸\";float: left;margin-right: 0.25em;color: #696969;}#sk-ae024404-a8e9-42c8-bf7e-8a617d7d8fae label.sk-toggleable__label-arrow:hover:before {color: black;}#sk-ae024404-a8e9-42c8-bf7e-8a617d7d8fae div.sk-estimator:hover label.sk-toggleable__label-arrow:before {color: black;}#sk-ae024404-a8e9-42c8-bf7e-8a617d7d8fae div.sk-toggleable__content {max-height: 0;max-width: 0;overflow: hidden;text-align: left;background-color: #f0f8ff;}#sk-ae024404-a8e9-42c8-bf7e-8a617d7d8fae div.sk-toggleable__content pre {margin: 0.2em;color: black;border-radius: 0.25em;background-color: #f0f8ff;}#sk-ae024404-a8e9-42c8-bf7e-8a617d7d8fae input.sk-toggleable__control:checked~div.sk-toggleable__content {max-height: 200px;max-width: 100%;overflow: auto;}#sk-ae024404-a8e9-42c8-bf7e-8a617d7d8fae input.sk-toggleable__control:checked~label.sk-toggleable__label-arrow:before {content: \"▾\";}#sk-ae024404-a8e9-42c8-bf7e-8a617d7d8fae div.sk-estimator input.sk-toggleable__control:checked~label.sk-toggleable__label {background-color: #d4ebff;}#sk-ae024404-a8e9-42c8-bf7e-8a617d7d8fae div.sk-label input.sk-toggleable__control:checked~label.sk-toggleable__label {background-color: #d4ebff;}#sk-ae024404-a8e9-42c8-bf7e-8a617d7d8fae input.sk-hidden--visually {border: 0;clip: rect(1px 1px 1px 1px);clip: rect(1px, 1px, 1px, 1px);height: 1px;margin: -1px;overflow: hidden;padding: 0;position: absolute;width: 1px;}#sk-ae024404-a8e9-42c8-bf7e-8a617d7d8fae div.sk-estimator {font-family: monospace;background-color: #f0f8ff;border: 1px dotted black;border-radius: 0.25em;box-sizing: border-box;margin-bottom: 0.5em;}#sk-ae024404-a8e9-42c8-bf7e-8a617d7d8fae div.sk-estimator:hover {background-color: #d4ebff;}#sk-ae024404-a8e9-42c8-bf7e-8a617d7d8fae div.sk-parallel-item::after {content: \"\";width: 100%;border-bottom: 1px solid gray;flex-grow: 1;}#sk-ae024404-a8e9-42c8-bf7e-8a617d7d8fae div.sk-label:hover label.sk-toggleable__label {background-color: #d4ebff;}#sk-ae024404-a8e9-42c8-bf7e-8a617d7d8fae div.sk-serial::before {content: \"\";position: absolute;border-left: 1px solid gray;box-sizing: border-box;top: 2em;bottom: 0;left: 50%;}#sk-ae024404-a8e9-42c8-bf7e-8a617d7d8fae div.sk-serial {display: flex;flex-direction: column;align-items: center;background-color: white;padding-right: 0.2em;padding-left: 0.2em;}#sk-ae024404-a8e9-42c8-bf7e-8a617d7d8fae div.sk-item {z-index: 1;}#sk-ae024404-a8e9-42c8-bf7e-8a617d7d8fae div.sk-parallel {display: flex;align-items: stretch;justify-content: center;background-color: white;}#sk-ae024404-a8e9-42c8-bf7e-8a617d7d8fae div.sk-parallel::before {content: \"\";position: absolute;border-left: 1px solid gray;box-sizing: border-box;top: 2em;bottom: 0;left: 50%;}#sk-ae024404-a8e9-42c8-bf7e-8a617d7d8fae div.sk-parallel-item {display: flex;flex-direction: column;position: relative;background-color: white;}#sk-ae024404-a8e9-42c8-bf7e-8a617d7d8fae div.sk-parallel-item:first-child::after {align-self: flex-end;width: 50%;}#sk-ae024404-a8e9-42c8-bf7e-8a617d7d8fae div.sk-parallel-item:last-child::after {align-self: flex-start;width: 50%;}#sk-ae024404-a8e9-42c8-bf7e-8a617d7d8fae div.sk-parallel-item:only-child::after {width: 0;}#sk-ae024404-a8e9-42c8-bf7e-8a617d7d8fae div.sk-dashed-wrapped {border: 1px dashed gray;margin: 0 0.4em 0.5em 0.4em;box-sizing: border-box;padding-bottom: 0.4em;background-color: white;position: relative;}#sk-ae024404-a8e9-42c8-bf7e-8a617d7d8fae div.sk-label label {font-family: monospace;font-weight: bold;background-color: white;display: inline-block;line-height: 1.2em;}#sk-ae024404-a8e9-42c8-bf7e-8a617d7d8fae div.sk-label-container {position: relative;z-index: 2;text-align: center;}#sk-ae024404-a8e9-42c8-bf7e-8a617d7d8fae div.sk-container {/* jupyter's `normalize.less` sets `[hidden] { display: none; }` but bootstrap.min.css set `[hidden] { display: none !important; }` so we also need the `!important` here to be able to override the default hidden behavior on the sphinx rendered scikit-learn.org. See: https://github.com/scikit-learn/scikit-learn/issues/21755 */display: inline-block !important;position: relative;}#sk-ae024404-a8e9-42c8-bf7e-8a617d7d8fae div.sk-text-repr-fallback {display: none;}</style><div id=\"sk-ae024404-a8e9-42c8-bf7e-8a617d7d8fae\" class=\"sk-top-container\"><div class=\"sk-text-repr-fallback\"><pre>Lasso(alpha=1.5, random_state=124, selection=&#x27;random&#x27;)</pre><b>Please rerun this cell to show the HTML repr or trust the notebook.</b></div><div class=\"sk-container\" hidden><div class=\"sk-item\"><div class=\"sk-estimator sk-toggleable\"><input class=\"sk-toggleable__control sk-hidden--visually\" id=\"70e339a5-0ad5-488e-93bb-2d419fefa7e9\" type=\"checkbox\" checked><label for=\"70e339a5-0ad5-488e-93bb-2d419fefa7e9\" class=\"sk-toggleable__label sk-toggleable__label-arrow\">Lasso</label><div class=\"sk-toggleable__content\"><pre>Lasso(alpha=1.5, random_state=124, selection=&#x27;random&#x27;)</pre></div></div></div></div></div>"
      ],
      "text/plain": [
       "Lasso(alpha=1.5, random_state=124, selection='random')"
      ]
     },
     "execution_count": 33,
     "metadata": {},
     "output_type": "execute_result"
    }
   ],
   "source": [
    "full_pipeline2['model_training2'].named_steps['model2'].set_params(selection='random',alpha=1.5)"
   ]
  },
  {
   "cell_type": "code",
   "execution_count": 34,
   "metadata": {},
   "outputs": [
    {
     "name": "stderr",
     "output_type": "stream",
     "text": [
      "C:\\Users\\shiva\\AppData\\Roaming\\Python\\Python310\\site-packages\\sklearn\\linear_model\\_coordinate_descent.py:647: ConvergenceWarning: Objective did not converge. You might want to increase the number of iterations, check the scale of the features or consider increasing regularisation. Duality gap: 5.014e+03, tolerance: 1.695e+03\n",
      "  model = cd_fast.enet_coordinate_descent(\n"
     ]
    }
   ],
   "source": [
    "## Training the model using the new parameters\n",
    "lasso_model = full_pipeline2.fit(x_train,y_train)"
   ]
  },
  {
   "cell_type": "code",
   "execution_count": 35,
   "metadata": {},
   "outputs": [],
   "source": [
    "y_predict = lasso_model.predict(x_test)"
   ]
  },
  {
   "cell_type": "code",
   "execution_count": 36,
   "metadata": {},
   "outputs": [
    {
     "data": {
      "text/plain": [
       "array([  41.94209151,  390.01083479,   56.68105437,  859.54386599,\n",
       "        581.59964963,  606.78473379, -398.45169809,  308.58194558,\n",
       "        716.67090564,  521.52277276,  346.7390952 ,  131.49434729,\n",
       "        841.42386677,   97.34893858,  -90.85031701,  607.1945575 ,\n",
       "        550.17497155,   20.36773618,  270.16370112,  420.77591585,\n",
       "        827.45561873,  225.81536572,  739.44581792,  868.96094254,\n",
       "       -112.40927693,   90.64202669,  532.79014785,  245.72002643,\n",
       "        739.48800996,   29.32950097,  367.06195524,  878.34655737])"
      ]
     },
     "execution_count": 36,
     "metadata": {},
     "output_type": "execute_result"
    }
   ],
   "source": [
    "y_predict"
   ]
  },
  {
   "cell_type": "code",
   "execution_count": 37,
   "metadata": {},
   "outputs": [
    {
     "data": {
      "text/plain": [
       "0.8911295520294069"
      ]
     },
     "execution_count": 37,
     "metadata": {},
     "output_type": "execute_result"
    }
   ],
   "source": [
    "### Calculating the accuracy of the model using r2_score\n",
    "\n",
    "r2_score(y_test,y_predict)"
   ]
  },
  {
   "cell_type": "markdown",
   "metadata": {},
   "source": [
    "Saving the created model into the python pickle file"
   ]
  },
  {
   "cell_type": "code",
   "execution_count": 38,
   "metadata": {},
   "outputs": [
    {
     "data": {
      "text/plain": [
       "['Model_pickle_file/lasso_model.pkl']"
      ]
     },
     "execution_count": 38,
     "metadata": {},
     "output_type": "execute_result"
    }
   ],
   "source": [
    "joblib.dump(lasso_model,\"Model_pickle_file/lasso_model.pkl\")"
   ]
  }
 ],
 "metadata": {
  "interpreter": {
   "hash": "7679b3f13171ca1df491d4b5b53694221155d4305fc1b0a8de727533012e72db"
  },
  "kernelspec": {
   "display_name": "Python 3.10.0 64-bit",
   "language": "python",
   "name": "python3"
  },
  "language_info": {
   "codemirror_mode": {
    "name": "ipython",
    "version": 3
   },
   "file_extension": ".py",
   "mimetype": "text/x-python",
   "name": "python",
   "nbconvert_exporter": "python",
   "pygments_lexer": "ipython3",
   "version": "3.10.0"
  },
  "orig_nbformat": 4
 },
 "nbformat": 4,
 "nbformat_minor": 2
}
